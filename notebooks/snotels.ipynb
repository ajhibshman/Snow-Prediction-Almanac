{
 "cells": [
  {
   "cell_type": "code",
   "execution_count": 1,
   "metadata": {},
   "outputs": [],
   "source": [
    "#notebook for snotel site analysis"
   ]
  },
  {
   "cell_type": "code",
   "execution_count": 1,
   "metadata": {},
   "outputs": [],
   "source": [
    "# Dependencies and Setup\n",
    "import matplotlib.pyplot as plt\n",
    "import pandas as pd\n",
    "import numpy as np\n",
    "import requests\n",
    "import gmaps\n",
    "import os\n",
    "from pprint import pprint\n",
    "# Import API key\n",
    "from api_keys import g_key"
   ]
  },
  {
   "cell_type": "code",
   "execution_count": 2,
   "metadata": {},
   "outputs": [
    {
     "data": {
      "text/html": [
       "<div>\n",
       "<style scoped>\n",
       "    .dataframe tbody tr th:only-of-type {\n",
       "        vertical-align: middle;\n",
       "    }\n",
       "\n",
       "    .dataframe tbody tr th {\n",
       "        vertical-align: top;\n",
       "    }\n",
       "\n",
       "    .dataframe thead th {\n",
       "        text-align: right;\n",
       "    }\n",
       "</style>\n",
       "<table border=\"1\" class=\"dataframe\">\n",
       "  <thead>\n",
       "    <tr style=\"text-align: right;\">\n",
       "      <th></th>\n",
       "      <th>site_name</th>\n",
       "      <th>start</th>\n",
       "      <th>lat</th>\n",
       "      <th>lon</th>\n",
       "      <th>elev</th>\n",
       "      <th>Avg_SWE</th>\n",
       "      <th>county</th>\n",
       "    </tr>\n",
       "  </thead>\n",
       "  <tbody>\n",
       "    <tr>\n",
       "      <th>0</th>\n",
       "      <td>Bear Lake (322)</td>\n",
       "      <td>1979-October</td>\n",
       "      <td>40.31</td>\n",
       "      <td>-105.64</td>\n",
       "      <td>9500</td>\n",
       "      <td>20.82</td>\n",
       "      <td>Larimer</td>\n",
       "    </tr>\n",
       "    <tr>\n",
       "      <th>1</th>\n",
       "      <td>Berthoud Summit (335)</td>\n",
       "      <td>1963-September</td>\n",
       "      <td>39.80</td>\n",
       "      <td>-105.78</td>\n",
       "      <td>11300</td>\n",
       "      <td>22.88</td>\n",
       "      <td>Grand</td>\n",
       "    </tr>\n",
       "    <tr>\n",
       "      <th>2</th>\n",
       "      <td>Brumley (369)</td>\n",
       "      <td>1979-October</td>\n",
       "      <td>39.09</td>\n",
       "      <td>-106.54</td>\n",
       "      <td>10600</td>\n",
       "      <td>12.22</td>\n",
       "      <td>Lake</td>\n",
       "    </tr>\n",
       "    <tr>\n",
       "      <th>3</th>\n",
       "      <td>Butte (380)</td>\n",
       "      <td>1979-October</td>\n",
       "      <td>38.89</td>\n",
       "      <td>-106.95</td>\n",
       "      <td>10160</td>\n",
       "      <td>15.80</td>\n",
       "      <td>Gunnison</td>\n",
       "    </tr>\n",
       "    <tr>\n",
       "      <th>4</th>\n",
       "      <td>Columbine (408)</td>\n",
       "      <td>1978-October</td>\n",
       "      <td>40.39</td>\n",
       "      <td>-106.60</td>\n",
       "      <td>9160</td>\n",
       "      <td>25.85</td>\n",
       "      <td>Jackson</td>\n",
       "    </tr>\n",
       "  </tbody>\n",
       "</table>\n",
       "</div>"
      ],
      "text/plain": [
       "               site_name           start    lat     lon   elev  Avg_SWE  \\\n",
       "0        Bear Lake (322)    1979-October  40.31 -105.64   9500    20.82   \n",
       "1  Berthoud Summit (335)  1963-September  39.80 -105.78  11300    22.88   \n",
       "2          Brumley (369)    1979-October  39.09 -106.54  10600    12.22   \n",
       "3            Butte (380)    1979-October  38.89 -106.95  10160    15.80   \n",
       "4        Columbine (408)    1978-October  40.39 -106.60   9160    25.85   \n",
       "\n",
       "     county  \n",
       "0   Larimer  \n",
       "1     Grand  \n",
       "2      Lake  \n",
       "3  Gunnison  \n",
       "4   Jackson  "
      ]
     },
     "execution_count": 2,
     "metadata": {},
     "output_type": "execute_result"
    }
   ],
   "source": [
    "#Prepare intro images and analysis\n",
    "#google map showing location, name and elevation of each snotel site\n",
    "snotel = \"resources/Snotel_Sites.csv\"\n",
    "snotel_df = pd.read_csv(snotel)\n",
    "snotel_df.head()\n"
   ]
  },
  {
   "cell_type": "code",
   "execution_count": 9,
   "metadata": {
    "scrolled": false
   },
   "outputs": [
    {
     "data": {
      "application/vnd.jupyter.widget-view+json": {
       "model_id": "941af3c7765f40fab7491de88ad57bb5",
       "version_major": 2,
       "version_minor": 0
      },
      "text/plain": [
       "Figure(layout=FigureLayout(height='420px'))"
      ]
     },
     "metadata": {},
     "output_type": "display_data"
    }
   ],
   "source": [
    "gmaps.configure(api_key=g_key)\n",
    "sites=snotel_df[[\"lat\",\"lon\"]]\n",
    "elevation=snotel_df[\"elev\"]\n",
    "name=snotel_df[\"site_name\"]\n",
    "\n",
    "fig=gmaps.figure()\n",
    "\n",
    "sitename=snotel_df[\"site_name\"].tolist()\n",
    "markers=gmaps.marker_layer(sites,info_box_content=[f\"{x}\" for x in sitename])\n",
    "\n",
    "fig.add_layer(markers)\n",
    "\n",
    "\n",
    "fig\n",
    "\n"
   ]
  },
  {
   "cell_type": "code",
   "execution_count": null,
   "metadata": {},
   "outputs": [],
   "source": [
    "# examine elevation vs. average SWE"
   ]
  }
 ],
 "metadata": {
  "kernelspec": {
   "display_name": "Python [conda env:pythondata] *",
   "language": "python",
   "name": "conda-env-pythondata-py"
  },
  "language_info": {
   "codemirror_mode": {
    "name": "ipython",
    "version": 3
   },
   "file_extension": ".py",
   "mimetype": "text/x-python",
   "name": "python",
   "nbconvert_exporter": "python",
   "pygments_lexer": "ipython3",
   "version": "3.7.1"
  }
 },
 "nbformat": 4,
 "nbformat_minor": 4
}
